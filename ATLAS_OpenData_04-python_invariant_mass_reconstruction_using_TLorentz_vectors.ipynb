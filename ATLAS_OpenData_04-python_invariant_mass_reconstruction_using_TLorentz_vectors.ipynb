{
 "cells": [
  {
   "cell_type": "markdown",
   "metadata": {},
   "source": [
    "<CENTER>\n",
    "    <a href=\"http://opendata.atlas.cern\" class=\"icons\"><img src=\"../Assets/ATLASOD.gif\" style=\"width:50%\"></a>\n",
    "</CENTER>"
   ]
  },
  {
   "cell_type": "markdown",
   "metadata": {},
   "source": [
    "# A more difficult notebook in python\n",
    "\n",
    "### In this notebook you can find a more difficult program that shows further high energy physics (HEP) analysis techniques.\n",
    "\n",
    "##### The following analysis is searching for events where [Z bosons](https://en.wikipedia.org/wiki/W_and_Z_bosons) decay to two leptons of same flavour and opposite charge (to be seen for example in the [Feynman diagram](https://en.wikipedia.org/wiki/Feynman_diagram))."
   ]
  },
  {
   "cell_type": "markdown",
   "metadata": {},
   "source": [
    "<CENTER><img src=\"../Assets/Z_ElectronPositron.png\" style=\"width:30%\"></CENTER>"
   ]
  },
  {
   "cell_type": "markdown",
   "metadata": {},
   "source": [
    "First of all - like we did it in the first notebook - ROOT is imported to read the files in the _.root_ data format."
   ]
  },
  {
   "cell_type": "code",
   "execution_count": 1,
   "metadata": {
    "scrolled": true
   },
   "outputs": [
    {
     "name": "stdout",
     "output_type": "stream",
     "text": [
      "Welcome to JupyROOT 6.18/04\n"
     ]
    }
   ],
   "source": [
    "import ROOT"
   ]
  },
  {
   "cell_type": "markdown",
   "metadata": {},
   "source": [
    "In order to activate the interactive visualisation of the histogram that is later created we can use the JSROOT magic:"
   ]
  },
  {
   "cell_type": "code",
   "execution_count": 2,
   "metadata": {},
   "outputs": [],
   "source": [
    "%jsroot on"
   ]
  },
  {
   "cell_type": "code",
   "execution_count": null,
   "metadata": {},
   "outputs": [],
   "source": [
    "!wget http://opendata.cern.ch/eos/opendata/atlas/OutreachDatasets/2020-01-22/2lep/MC/mc_307431.RS_G_ZZ_llll_c10_m0200.2lep.root"
   ]
  },
  {
   "cell_type": "markdown",
   "metadata": {},
   "source": [
    "Next we have to open the data that we want to analyze. As described above the data is stored in a _*.root_ file."
   ]
  },
  {
   "cell_type": "code",
   "execution_count": 3,
   "metadata": {},
   "outputs": [],
   "source": [
    "## Example of local file ##\n",
    "## f = ROOT.TFile.Open(\"/home/student/datasets/MC/mc_105986.ZZ.root\")\n",
    "\n",
    "## Example of remote file (URL) ##\n",
    "f = ROOT.TFile.Open(\"/home/student/mc_307431.RS_G_ZZ_llll_c10_m0200.4lep.root\")\n",
    "## f = ROOT.TFile.Open(\"http://opendata.atlas.cern/release/samples/MC/mc_147770.Zee.root\")\n"
   ]
  },
  {
   "cell_type": "markdown",
   "metadata": {},
   "source": [
    "After the data is opened we create a canvas on which we can draw a histogram. If we do not have a canvas we cannot see our histogram at the end. Its name is _Canvas_ and its header is _c_. The two following arguments define the width and the height of the canvas."
   ]
  },
  {
   "cell_type": "code",
   "execution_count": 21,
   "metadata": {},
   "outputs": [
    {
     "name": "stderr",
     "output_type": "stream",
     "text": [
      "Warning in <TCanvas::Constructor>: Deleting canvas with same name: Canvas\n"
     ]
    }
   ],
   "source": [
    "canvas = ROOT.TCanvas(\"Canvas\",\"c\",800,600)"
   ]
  },
  {
   "cell_type": "markdown",
   "metadata": {},
   "source": [
    "The next step is to define a tree named _t_ to get the data out of the _.root_ file."
   ]
  },
  {
   "cell_type": "code",
   "execution_count": 5,
   "metadata": {},
   "outputs": [],
   "source": [
    "tree = f.Get(\"mini\")"
   ]
  },
  {
   "cell_type": "markdown",
   "metadata": {},
   "source": [
    "Now we define a histogram that will later be placed on this canvas. Its name is _variable_, the header of the histogram is _Mass of the Z boson_, the x axis is named _mass [GeV]_ and the y axis is named _events_. The three following arguments indicate that this histogram contains 30 bins which have a range from 40 to 140."
   ]
  },
  {
   "cell_type": "code",
   "execution_count": 6,
   "metadata": {},
   "outputs": [],
   "source": [
    "hist = ROOT.TH1F(\"variable\",\"Mass of graviton; mass [GeV]; events\",40,100,300)"
   ]
  },
  {
   "cell_type": "code",
   "execution_count": 7,
   "metadata": {},
   "outputs": [
    {
     "data": {
      "text/plain": [
       "4333"
      ]
     },
     "execution_count": 7,
     "metadata": {},
     "output_type": "execute_result"
    }
   ],
   "source": [
    "tree.GetEntries()"
   ]
  },
  {
   "cell_type": "code",
   "execution_count": 8,
   "metadata": {},
   "outputs": [
    {
     "name": "stdout",
     "output_type": "stream",
     "text": [
      "==> Dumping object at: 0x0000000005ecb050, name=mini, class=TTree\n",
      "\n",
      "fEntries                      4333                Number of entries\n",
      "fTotBytes                     3741995             Total number of bytes in all branches before compression\n",
      "fZipBytes                     1154342             Total number of bytes in all branches after compression\n",
      "fSavedBytes                   1154342             Number of autosaved bytes\n",
      "fFlushedBytes                 0                   Number of auto-flushed bytes\n",
      "fWeight                       1                   Tree weight (see TTree::SetWeight)\n",
      "fTimerInterval                0                   Timer interval in milliseconds\n",
      "fScanField                    25                  Number of runs before prompting in Scan\n",
      "fUpdate                       0                   Update frequency for EntryLoop\n",
      "fDefaultEntryOffsetLen        1000                Initial Length of fEntryOffset table in the basket buffers\n",
      "fNClusterRange                0                   Number of Cluster range in addition to the one defined by 'AutoFlush'\n",
      "fMaxClusterRange              0                   ! Memory allocated for the cluster range.\n",
      "fMaxEntries                   1000000000000       Maximum number of entries in case of circular buffers\n",
      "fMaxEntryLoop                 1000000000000       Maximum number of entries to process\n",
      "fMaxVirtualSize               0                   Maximum total size of buffers kept in memory\n",
      "fAutoSave                     -300000000          Autosave tree when fAutoSave entries written or -fAutoSave (compressed) bytes produced\n",
      "fAutoFlush                    -30000000           Auto-flush tree when fAutoFlush entries written or -fAutoFlush (compressed) bytes produced\n",
      "fEstimate                     1000000             Number of entries to estimate histogram limits\n",
      "*fClusterRangeEnd             ->0                 [fNClusterRange] Last entry of a cluster range.\n",
      "*fClusterSize                 ->0                 [fNClusterRange] Number of entries in each cluster for a given range.\n",
      "fCacheSize                    0                   ! Maximum size of file buffers\n",
      "fChainOffset                  0                   ! Offset of 1st entry of this Tree in a TChain\n",
      "fReadEntry                    -1                  ! Number of the entry being processed\n",
      "fTotalBuffers                 ->5ecb160           ! Total number of bytes in branch buffers\n",
      "fTotalBuffers._M_i            2592000             \n",
      "fPacketSize                   100                 ! Number of entries in one packet for parallel root\n",
      "fNfill                        0                   ! Local for EntryLoop\n",
      "fDebug                        0                   ! Debug level\n",
      "fDebugMin                     0                   ! First entry number to debug\n",
      "fDebugMax                     9999999             ! Last entry number to debug\n",
      "fIOFeatures                   ->5ecb188           IO features to define for newly-written baskets and branches.\n",
      "fIOFeatures.fIOBits                               \n",
      "fMakeClass                    0                   ! not zero when processing code generated by MakeClass\n",
      "fFileNumber                   0                   ! current file number (if file extensions)\n",
      "*fNotify                      ->0                 ! Object to be notified when loading a Tree\n",
      "*fDirectory                   ->4750720           ! Pointer to directory holding this tree\n",
      "fBranches                     ->5ecb1a8           List of Branches\n",
      "fBranches.*fCont              ->61d8c90           !Array contents\n",
      "fBranches.fLowerBound         0                   Lower bound of the array\n",
      "fBranches.fLast               80                  Last element in array containing an object\n",
      "fBranches.fSorted             false               true if collection has been sorted\n",
      "fBranches.fName                                   name of the collection\n",
      "fBranches.fName.fRep          ->5ecb1c0           ! String data\n",
      "fBranches.fName.fRep.         ->5ecb1c0           \n",
      "fBranches.fSize               81                  number of elements in collection\n",
      "fBranches.fUniqueID           0                   object unique identifier\n",
      "fBranches.fBits               0x03004000          bit field status word\n",
      "fLeaves                       ->5ecb1e8           Direct pointers to individual branch leaves\n",
      "fLeaves.*fCont                ->3c78860           !Array contents\n",
      "fLeaves.fLowerBound           0                   Lower bound of the array\n",
      "fLeaves.fLast                 80                  Last element in array containing an object\n",
      "fLeaves.fSorted               false               true if collection has been sorted\n",
      "fLeaves.fName                                     name of the collection\n",
      "fLeaves.fName.fRep            ->5ecb200           ! String data\n",
      "fLeaves.fName.fRep.           ->5ecb200           \n",
      "fLeaves.fSize                 81                  number of elements in collection\n",
      "fLeaves.fUniqueID             0                   object unique identifier\n",
      "fLeaves.fBits                 0x03000000          bit field status word\n",
      "*fAliases                     ->0                 List of aliases for expressions based on the tree branches.\n",
      "*fEventList                   ->0                 ! Pointer to event selection list (if one)\n",
      "*fEntryList                   ->0                 ! Pointer to event selection list (if one)\n",
      "fIndexValues                  ->5ecb240           Sorted index values\n",
      "fIndexValues.*fArray          ->0                 [fN] Array of fN doubles\n",
      "fIndexValues.fN               0                   Number of array elements\n",
      "fIndex                        ->5ecb258           Index of sorted values\n",
      "fIndex.*fArray                ->0                 [fN] Array of fN 32 bit integers\n",
      "fIndex.fN                     0                   Number of array elements\n",
      "*fTreeIndex                   ->0                 Pointer to the tree Index (if any)\n",
      "*fFriends                     ->0                 pointer to list of friend elements\n",
      "*fPerfStats                   ->0                 ! pointer to the current perf stats object\n",
      "*fUserInfo                    ->0                 pointer to a list of user objects associated to this Tree\n",
      "*fPlayer                      ->0                 ! Pointer to current Tree player\n",
      "*fClones                      ->0                 ! List of cloned trees which share our addresses\n",
      "*fBranchRef                   ->0                 Branch supporting the TRefTable (if any)\n",
      "fFriendLockStatus             0                   ! Record which method is locking the friend recursion\n",
      "*fTransientBuffer             ->0                 ! Pointer to the current transient buffer.\n",
      "fCacheDoAutoInit              true                ! true if cache auto creation or resize check is needed\n",
      "fCacheDoClusterPrefetch       false               ! true if cache is prefetching whole clusters\n",
      "fCacheUserSet                 false               ! true if the cache setting was explicitly given by user\n",
      "fIMTEnabled                   false               ! true if implicit multi-threading is enabled for this tree\n",
      "fNEntriesSinceSorting         0                   ! Number of entries processed since the last re-sorting of branches\n",
      "fSortedBranches               ->5ecb2c0           ! Branches to be processed in parallel when IMT is on, sorted by average task time\n",
      "fSeqBranches                  ->5ecb2d8           ! Branches to be processed sequentially when IMT is on\n",
      "fTargetMemoryRatio            1.1                 ! Ratio for memory usage in uncompressed buffers versus actual occupancy.  1.0\n",
      "fAllocationCount              ->5ecb2f4           ! Number of reallocations basket memory buffers.\n",
      "fAllocationCount._M_i         0                   \n",
      "fIMTFlush                     false               ! True if we are doing a multithreaded flush.\n",
      "fIMTTotBytes                  ->5ecb300           ! Total bytes for the IMT flush baskets\n",
      "fIMTTotBytes._M_i             -7378697629483820647\n",
      "fIMTZipBytes                  ->5ecb308           ! Zip bytes for the IMT flush baskets.\n",
      "fIMTZipBytes._M_i             -7378697629483820647\n",
      "fName                         mini                object identifier\n",
      "fName.fRep                    ->5ecb068           ! String data\n",
      "fName.fRep.                   ->5ecb068           \n",
      "fTitle                        mini                object title\n",
      "fTitle.fRep                   ->5ecb080           ! String data\n",
      "fTitle.fRep.                  ->5ecb080           \n",
      "fUniqueID                     0                   object unique identifier\n",
      "fBits                         0x03000008          bit field status word\n",
      "fLineColor                    602                 Line color\n",
      "fLineStyle                    1                   Line style\n",
      "fLineWidth                    1                   Line width\n",
      "fFillColor                    0                   Fill area color\n",
      "fFillStyle                    1001                Fill area style\n",
      "fMarkerColor                  1                   Marker color\n",
      "fMarkerStyle                  1                   Marker style\n",
      "fMarkerSize                   1                   Marker size\n"
     ]
    }
   ],
   "source": [
    "tree.Dump()"
   ]
  },
  {
   "cell_type": "raw",
   "metadata": {},
   "source": [
    "hist2 = ROOT.TH1F(\"variable\",\"Mass of the Z boson; mass [GeV]; events\",40,0,180)"
   ]
  },
  {
   "cell_type": "code",
   "execution_count": 8,
   "metadata": {},
   "outputs": [
    {
     "name": "stderr",
     "output_type": "stream",
     "text": [
      "Warning in <TFile::Append>: Replacing existing TH1: variable (Potential memory leak).\n"
     ]
    }
   ],
   "source": [
    "hist2 = ROOT.TH1F(\"variable\",\"Mass of Z; mass [GeV]; events\",40,0,180)"
   ]
  },
  {
   "cell_type": "code",
   "execution_count": 9,
   "metadata": {},
   "outputs": [
    {
     "name": "stderr",
     "output_type": "stream",
     "text": [
      "Warning in <TCanvas::Constructor>: Deleting canvas with same name: Canvas\n"
     ]
    }
   ],
   "source": []
  },
  {
   "cell_type": "code",
   "execution_count": 10,
   "metadata": {},
   "outputs": [],
   "source": [
    "leptona = ROOT.TLorentzVector()\n",
    "leptonb = ROOT.TLorentzVector()\n",
    "\n",
    " \n",
    "for event in tree:\n",
    "        \n",
    "        if tree.lep_n >= 4 :\n",
    "            if(tree.lep_charge[0] != tree.lep_charge[1]):\n",
    "                if(tree.lep_type[0] != tree.lep_type[1]):\n",
    "                \n",
    "                    leptona.SetPtEtaPhiE(tree.lep_pt[0]/1000., tree.lep_eta[0], tree.lep_phi[0], tree.lep_E[0]/1000.)\n",
    "                    leptonb.SetPtEtaPhiE(tree.lep_pt[1]/1000., tree.lep_eta[1], tree.lep_phi[1], tree.lep_E[1]/1000.)\n",
    "            \n",
    "             \n",
    "            \n",
    "            invmassZ = leptona + leptonb\n",
    "            hist2.Fill(invmassZ.M())\n",
    "            "
   ]
  },
  {
   "cell_type": "code",
   "execution_count": 11,
   "metadata": {},
   "outputs": [
    {
     "data": {
      "text/plain": [
       "4333"
      ]
     },
     "execution_count": 11,
     "metadata": {},
     "output_type": "execute_result"
    }
   ],
   "source": [
    "tree.GetEntries()"
   ]
  },
  {
   "cell_type": "markdown",
   "metadata": {},
   "source": [
    "Time to fill our above defined histogram. At first we define some variables and then we loop over the data. We also make some cuts as you can see in the # _comments_."
   ]
  },
  {
   "cell_type": "code",
   "execution_count": 12,
   "metadata": {},
   "outputs": [],
   "source": [
    "lepton1 = ROOT.TLorentzVector()\n",
    "lepton2 = ROOT.TLorentzVector()\n",
    "lepton3 = ROOT.TLorentzVector()\n",
    "lepton4 = ROOT.TLorentzVector()\n",
    "\n",
    "\n",
    "\n",
    "for event in tree:\n",
    "    \n",
    "    # Cut #1: At least 2 leptons\n",
    "    if tree.lep_n == 4:\n",
    "    \n",
    "\n",
    "                \n",
    "                # Let's define one TLorentz vector for each, e.i. two vectors!\n",
    "                lepton1.SetPtEtaPhiE(tree.lep_pt[0]/1000., tree.lep_eta[0], tree.lep_phi[0], tree.lep_E[0]/1000.)\n",
    "                lepton2.SetPtEtaPhiE(tree.lep_pt[1]/1000., tree.lep_eta[1], tree.lep_phi[1], tree.lep_E[1]/1000.)\n",
    "                lepton3.SetPtEtaPhiE(tree.lep_pt[2]/1000., tree.lep_eta[2], tree.lep_phi[2], tree.lep_E[2]/1000.)\n",
    "                lepton4.SetPtEtaPhiE(tree.lep_pt[3]/1000., tree.lep_eta[3], tree.lep_phi[3], tree.lep_E[3]/1000.)\n",
    "                # Next line: addition of two TLorentz vectors above --> ask mass very easy (devide by 1000 to get value in GeV)\n",
    "                invmass = lepton1 + lepton2 + lepton3 + lepton4\n",
    "                \n",
    "                hist.Fill(invmass.M())"
   ]
  },
  {
   "cell_type": "markdown",
   "metadata": {},
   "source": [
    "After filling the histogram we want to see the results of the analysis. First we draw the histogram on the canvas and then the canvas on which the histogram lies."
   ]
  },
  {
   "cell_type": "code",
   "execution_count": 23,
   "metadata": {},
   "outputs": [],
   "source": [
    "hist.Draw()"
   ]
  },
  {
   "cell_type": "code",
   "execution_count": 24,
   "metadata": {},
   "outputs": [
    {
     "data": {
      "text/html": [
       "\n",
       "<div id=\"root_plot_5\"\n",
       "     style=\"width: 796px; height: 572px\">\n",
       "</div>\n",
       "\n",
       "<script>\n",
       " requirejs.config({\n",
       "     paths: {\n",
       "       'JSRootCore' : 'https://root.cern.ch/js/notebook//scripts/JSRootCore',\n",
       "     }\n",
       "   });\n",
       " require(['JSRootCore'],\n",
       "     function(Core) {\n",
       "       var obj = Core.JSONR_unref({\"_typename\":\"TCanvas\",\"fUniqueID\":0,\"fBits\":53673992,\"fLineColor\":1,\"fLineStyle\":1,\"fLineWidth\":1,\"fFillColor\":0,\"fFillStyle\":1001,\"fLeftMargin\":0.1,\"fRightMargin\":0.1,\"fBottomMargin\":0.1,\"fTopMargin\":0.1,\"fXfile\":2,\"fYfile\":2,\"fAfile\":1,\"fXstat\":0.99,\"fYstat\":0.99,\"fAstat\":2,\"fFrameFillColor\":0,\"fFrameLineColor\":1,\"fFrameFillStyle\":1001,\"fFrameLineStyle\":1,\"fFrameLineWidth\":1,\"fFrameBorderSize\":1,\"fFrameBorderMode\":0,\"fX1\":74.9999981373547,\"fY1\":-146.475010913239,\"fX2\":325.000001862645,\"fY2\":1318.27501091324,\"fXtoAbsPixelk\":-238.79994051094,\"fXtoPixelk\":-238.79994051094,\"fXtoPixel\":3.1839999525547,\"fYtoAbsPixelk\":514.800046590614,\"fYtoPixelk\":514.800046590614,\"fYtoPixel\":-0.390510320175139,\"fUtoAbsPixelk\":5e-5,\"fUtoPixelk\":5e-5,\"fUtoPixel\":796,\"fVtoAbsPixelk\":572.00005,\"fVtoPixelk\":572,\"fVtoPixel\":-572,\"fAbsPixeltoXk\":74.9999981373547,\"fPixeltoXk\":74.9999981373547,\"fPixeltoX\":0.314070356438807,\"fAbsPixeltoYk\":1318.27501091324,\"fPixeltoYk\":-146.475010913239,\"fPixeltoY\":-2.56075178640992,\"fXlowNDC\":0,\"fYlowNDC\":0,\"fXUpNDC\":0,\"fYUpNDC\":0,\"fWNDC\":1,\"fHNDC\":1,\"fAbsXlowNDC\":0,\"fAbsYlowNDC\":0,\"fAbsWNDC\":1,\"fAbsHNDC\":1,\"fUxmin\":100,\"fUymin\":0,\"fUxmax\":300,\"fUymax\":1171.8,\"fTheta\":30,\"fPhi\":30,\"fAspectRatio\":0,\"fNumber\":0,\"fTickx\":0,\"fTicky\":0,\"fLogx\":0,\"fLogy\":0,\"fLogz\":0,\"fPadPaint\":0,\"fCrosshair\":0,\"fCrosshairPos\":0,\"fBorderSize\":2,\"fBorderMode\":0,\"fModified\":false,\"fGridx\":false,\"fGridy\":false,\"fAbsCoord\":false,\"fEditable\":true,\"fFixedAspectRatio\":false,\"fPrimitives\":{\"_typename\":\"TList\",\"name\":\"TList\",\"arr\":[{\"_typename\":\"TFrame\",\"fUniqueID\":0,\"fBits\":50331656,\"fLineColor\":1,\"fLineStyle\":1,\"fLineWidth\":1,\"fFillColor\":0,\"fFillStyle\":1001,\"fX1\":100,\"fY1\":0,\"fX2\":300,\"fY2\":1171.8,\"fBorderSize\":1,\"fBorderMode\":0},{\"_typename\":\"TH1F\",\"fUniqueID\":0,\"fBits\":50331656,\"fName\":\"variable\",\"fTitle\":\"Mass of graviton\",\"fLineColor\":602,\"fLineStyle\":1,\"fLineWidth\":1,\"fFillColor\":0,\"fFillStyle\":1001,\"fMarkerColor\":1,\"fMarkerStyle\":1,\"fMarkerSize\":1,\"fNcells\":42,\"fXaxis\":{\"_typename\":\"TAxis\",\"fUniqueID\":0,\"fBits\":50331648,\"fName\":\"xaxis\",\"fTitle\":\" mass [GeV]\",\"fNdivisions\":510,\"fAxisColor\":1,\"fLabelColor\":1,\"fLabelFont\":42,\"fLabelOffset\":0.005,\"fLabelSize\":0.035,\"fTickLength\":0.03,\"fTitleOffset\":1,\"fTitleSize\":0.035,\"fTitleColor\":1,\"fTitleFont\":42,\"fNbins\":40,\"fXmin\":100,\"fXmax\":300,\"fXbins\":[],\"fFirst\":0,\"fLast\":0,\"fBits2\":0,\"fTimeDisplay\":false,\"fTimeFormat\":\"\",\"fLabels\":null,\"fModLabs\":null},\"fYaxis\":{\"_typename\":\"TAxis\",\"fUniqueID\":0,\"fBits\":50331648,\"fName\":\"yaxis\",\"fTitle\":\" events\",\"fNdivisions\":510,\"fAxisColor\":1,\"fLabelColor\":1,\"fLabelFont\":42,\"fLabelOffset\":0.005,\"fLabelSize\":0.035,\"fTickLength\":0.03,\"fTitleOffset\":0,\"fTitleSize\":0.035,\"fTitleColor\":1,\"fTitleFont\":42,\"fNbins\":1,\"fXmin\":0,\"fXmax\":1,\"fXbins\":[],\"fFirst\":0,\"fLast\":0,\"fBits2\":0,\"fTimeDisplay\":false,\"fTimeFormat\":\"\",\"fLabels\":null,\"fModLabs\":null},\"fZaxis\":{\"_typename\":\"TAxis\",\"fUniqueID\":0,\"fBits\":50331648,\"fName\":\"zaxis\",\"fTitle\":\"\",\"fNdivisions\":510,\"fAxisColor\":1,\"fLabelColor\":1,\"fLabelFont\":42,\"fLabelOffset\":0.005,\"fLabelSize\":0.035,\"fTickLength\":0.03,\"fTitleOffset\":1,\"fTitleSize\":0.035,\"fTitleColor\":1,\"fTitleFont\":42,\"fNbins\":1,\"fXmin\":0,\"fXmax\":1,\"fXbins\":[],\"fFirst\":0,\"fLast\":0,\"fBits2\":0,\"fTimeDisplay\":false,\"fTimeFormat\":\"\",\"fLabels\":null,\"fModLabs\":null},\"fBarOffset\":0,\"fBarWidth\":1000,\"fEntries\":4304,\"fTsumw\":4293,\"fTsumw2\":4293,\"fTsumwx\":850583.781422374,\"fTsumwx2\":170271300.042395,\"fMaximum\":-1111,\"fMinimum\":-1111,\"fNormFactor\":0,\"fContour\":[],\"fSumw2\":[],\"fOption\":\"\",\"fFunctions\":{\"_typename\":\"TList\",\"name\":\"TList\",\"arr\":[{\"_typename\":\"TPaveStats\",\"fUniqueID\":0,\"fBits\":50331657,\"fLineColor\":1,\"fLineStyle\":1,\"fLineWidth\":1,\"fFillColor\":0,\"fFillStyle\":1001,\"fX1\":270.000005066395,\"fY1\":988.706264732872,\"fX2\":320.000006556511,\"fY2\":1223.06626298675,\"fX1NDC\":0.780000016093254,\"fY1NDC\":0.775000005960464,\"fX2NDC\":0.980000019073486,\"fY2NDC\":0.935000002384186,\"fBorderSize\":1,\"fInit\":1,\"fShadowColor\":1,\"fCornerRadius\":0,\"fOption\":\"brNDC\",\"fName\":\"stats\",\"fTextAngle\":0,\"fTextSize\":0,\"fTextAlign\":12,\"fTextColor\":1,\"fTextFont\":42,\"fLabel\":\"\",\"fLongest\":18,\"fMargin\":0.05,\"fLines\":{\"_typename\":\"TList\",\"name\":\"TList\",\"arr\":[{\"_typename\":\"TLatex\",\"fUniqueID\":0,\"fBits\":50331648,\"fName\":\"\",\"fTitle\":\"variable\",\"fTextAngle\":0,\"fTextSize\":0.0368,\"fTextAlign\":0,\"fTextColor\":0,\"fTextFont\":0,\"fX\":0,\"fY\":0,\"fLineColor\":1,\"fLineStyle\":1,\"fLineWidth\":2,\"fLimitFactorSize\":3,\"fOriginSize\":0.0368000008165836},{\"_typename\":\"TLatex\",\"fUniqueID\":0,\"fBits\":50331648,\"fName\":\"\",\"fTitle\":\"Entries = 4304   \",\"fTextAngle\":0,\"fTextSize\":0,\"fTextAlign\":0,\"fTextColor\":0,\"fTextFont\":0,\"fX\":0,\"fY\":0,\"fLineColor\":1,\"fLineStyle\":1,\"fLineWidth\":2,\"fLimitFactorSize\":3,\"fOriginSize\":0.04},{\"_typename\":\"TLatex\",\"fUniqueID\":0,\"fBits\":50331648,\"fName\":\"\",\"fTitle\":\"Mean  =  198.1\",\"fTextAngle\":0,\"fTextSize\":0,\"fTextAlign\":0,\"fTextColor\":0,\"fTextFont\":0,\"fX\":0,\"fY\":0,\"fLineColor\":1,\"fLineStyle\":1,\"fLineWidth\":2,\"fLimitFactorSize\":3,\"fOriginSize\":0.04},{\"_typename\":\"TLatex\",\"fUniqueID\":0,\"fBits\":50331648,\"fName\":\"\",\"fTitle\":\"Std Dev   =  20.15\",\"fTextAngle\":0,\"fTextSize\":0,\"fTextAlign\":0,\"fTextColor\":0,\"fTextFont\":0,\"fX\":0,\"fY\":0,\"fLineColor\":1,\"fLineStyle\":1,\"fLineWidth\":2,\"fLimitFactorSize\":3,\"fOriginSize\":0.04}],\"opt\":[\"\",\"\",\"\",\"\"]},\"fOptFit\":0,\"fOptStat\":1111,\"fFitFormat\":\"5.4g\",\"fStatFormat\":\"6.4g\",\"fParent\":{\"$ref\":3}}],\"opt\":[\"brNDC\"]},\"fBufferSize\":0,\"fBuffer\":[],\"fBinStatErrOpt\":0,\"fStatOverflows\":2,\"fArray\":[2,0,3,6,8,14,22,20,18,34,19,31,20,29,43,33,65,126,266,619,1116,868,366,159,101,68,49,35,32,13,15,26,11,3,15,13,8,9,3,4,3,9]},{\"_typename\":\"TPaveText\",\"fUniqueID\":0,\"fBits\":50331657,\"fLineColor\":1,\"fLineStyle\":1,\"fLineWidth\":1,\"fFillColor\":0,\"fFillStyle\":0,\"fX1\":161.538944150504,\"fY1\":1221.83710562151,\"fX2\":238.461055849496,\"fY2\":1310.95126778858,\"fX1NDC\":0.346155778894472,\"fY1NDC\":0.934160843929211,\"fX2NDC\":0.653844221105528,\"fY2NDC\":0.995000004768372,\"fBorderSize\":0,\"fInit\":1,\"fShadowColor\":1,\"fCornerRadius\":0,\"fOption\":\"blNDC\",\"fName\":\"title\",\"fTextAngle\":0,\"fTextSize\":0,\"fTextAlign\":22,\"fTextColor\":1,\"fTextFont\":42,\"fLabel\":\"\",\"fLongest\":16,\"fMargin\":0.05,\"fLines\":{\"_typename\":\"TList\",\"name\":\"TList\",\"arr\":[{\"_typename\":\"TLatex\",\"fUniqueID\":0,\"fBits\":50331648,\"fName\":\"\",\"fTitle\":\"Mass of graviton\",\"fTextAngle\":0,\"fTextSize\":0,\"fTextAlign\":0,\"fTextColor\":0,\"fTextFont\":0,\"fX\":0,\"fY\":0,\"fLineColor\":1,\"fLineStyle\":1,\"fLineWidth\":2,\"fLimitFactorSize\":3,\"fOriginSize\":0.0517132878303528}],\"opt\":[\"\"]}}],\"opt\":[\"\",\"\",\"blNDC\"]},\"fExecs\":null,\"fName\":\"Canvas\",\"fTitle\":\"c\",\"fNumPaletteColor\":0,\"fNextPaletteColor\":0,\"fDISPLAY\":\"$DISPLAY\",\"fDoubleBuffer\":0,\"fRetained\":true,\"fXsizeUser\":0,\"fYsizeUser\":0,\"fXsizeReal\":20,\"fYsizeReal\":15,\"fWindowTopX\":0,\"fWindowTopY\":0,\"fWindowWidth\":0,\"fWindowHeight\":0,\"fCw\":796,\"fCh\":572,\"fCatt\":{\"_typename\":\"TAttCanvas\",\"fXBetween\":2,\"fYBetween\":2,\"fTitleFromTop\":1.2,\"fXdate\":0.2,\"fYdate\":0.3,\"fAdate\":1},\"kMoveOpaque\":true,\"kResizeOpaque\":true,\"fHighLightColor\":2,\"fBatch\":true,\"kShowEventStatus\":false,\"kAutoExec\":true,\"kMenuBar\":true});\n",
       "       Core.draw(\"root_plot_5\", obj, \"\");\n",
       "     }\n",
       " );\n",
       "</script>\n"
      ],
      "text/plain": [
       "<IPython.core.display.HTML object>"
      ]
     },
     "metadata": {},
     "output_type": "display_data"
    }
   ],
   "source": [
    "canvas.Draw()"
   ]
  },
  {
   "cell_type": "markdown",
   "metadata": {},
   "source": [
    "**Done!**"
   ]
  },
  {
   "cell_type": "code",
   "execution_count": null,
   "metadata": {},
   "outputs": [],
   "source": []
  }
 ],
 "metadata": {
  "kernelspec": {
   "display_name": "Python 3",
   "language": "python",
   "name": "python3"
  },
  "language_info": {
   "codemirror_mode": {
    "name": "ipython",
    "version": 3
   },
   "file_extension": ".py",
   "mimetype": "text/x-python",
   "name": "python",
   "nbconvert_exporter": "python",
   "pygments_lexer": "ipython3",
   "version": "3.6.9"
  }
 },
 "nbformat": 4,
 "nbformat_minor": 2
}
